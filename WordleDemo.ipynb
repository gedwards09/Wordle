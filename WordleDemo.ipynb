{
 "cells": [
  {
   "cell_type": "code",
   "execution_count": 1,
   "id": "0cbc6389",
   "metadata": {},
   "outputs": [],
   "source": [
    "import numpy as np\n",
    "import pandas as pd"
   ]
  },
  {
   "cell_type": "code",
   "execution_count": 2,
   "id": "024c443a",
   "metadata": {},
   "outputs": [],
   "source": [
    "# get the list of words from Knuth's Graph Base list of five-letter words\n",
    "# five = pd.read_csv(\"sgb-words.txt\",header=None,names=[\"word\"])\n",
    "\n",
    "# This source uses a larger pool of almost 13,000 words\n",
    "five = pd.concat([\n",
    "    pd.read_csv(\"wordle-answers-alphabetical.txt\",header=None,names=[\"word\"]),\n",
    "    pd.read_csv(\"wordle-allowed-guesses.txt\",header=None,names=[\"word\"])],axis=0\n",
    ")"
   ]
  },
  {
   "cell_type": "code",
   "execution_count": 3,
   "id": "815c2990",
   "metadata": {},
   "outputs": [
    {
     "data": {
      "text/html": [
       "<div>\n",
       "<style scoped>\n",
       "    .dataframe tbody tr th:only-of-type {\n",
       "        vertical-align: middle;\n",
       "    }\n",
       "\n",
       "    .dataframe tbody tr th {\n",
       "        vertical-align: top;\n",
       "    }\n",
       "\n",
       "    .dataframe thead th {\n",
       "        text-align: right;\n",
       "    }\n",
       "</style>\n",
       "<table border=\"1\" class=\"dataframe\">\n",
       "  <thead>\n",
       "    <tr style=\"text-align: right;\">\n",
       "      <th></th>\n",
       "      <th>word</th>\n",
       "    </tr>\n",
       "  </thead>\n",
       "  <tbody>\n",
       "    <tr>\n",
       "      <th>0</th>\n",
       "      <td>aback</td>\n",
       "    </tr>\n",
       "    <tr>\n",
       "      <th>1</th>\n",
       "      <td>abase</td>\n",
       "    </tr>\n",
       "    <tr>\n",
       "      <th>2</th>\n",
       "      <td>abate</td>\n",
       "    </tr>\n",
       "    <tr>\n",
       "      <th>3</th>\n",
       "      <td>abbey</td>\n",
       "    </tr>\n",
       "    <tr>\n",
       "      <th>4</th>\n",
       "      <td>abbot</td>\n",
       "    </tr>\n",
       "    <tr>\n",
       "      <th>5</th>\n",
       "      <td>abhor</td>\n",
       "    </tr>\n",
       "    <tr>\n",
       "      <th>6</th>\n",
       "      <td>abide</td>\n",
       "    </tr>\n",
       "    <tr>\n",
       "      <th>7</th>\n",
       "      <td>abled</td>\n",
       "    </tr>\n",
       "    <tr>\n",
       "      <th>8</th>\n",
       "      <td>abode</td>\n",
       "    </tr>\n",
       "    <tr>\n",
       "      <th>9</th>\n",
       "      <td>abort</td>\n",
       "    </tr>\n",
       "  </tbody>\n",
       "</table>\n",
       "</div>"
      ],
      "text/plain": [
       "    word\n",
       "0  aback\n",
       "1  abase\n",
       "2  abate\n",
       "3  abbey\n",
       "4  abbot\n",
       "5  abhor\n",
       "6  abide\n",
       "7  abled\n",
       "8  abode\n",
       "9  abort"
      ]
     },
     "execution_count": 3,
     "metadata": {},
     "output_type": "execute_result"
    }
   ],
   "source": [
    "five.head(10)"
   ]
  },
  {
   "cell_type": "code",
   "execution_count": 4,
   "id": "32c260bc",
   "metadata": {},
   "outputs": [],
   "source": [
    "def wordle(answer,guess):\n",
    "    sig=[\"B\",\"B\",\"B\",\"B\",\"B\"]\n",
    "    for i in range(5):\n",
    "        if answer[i]==guess[i]:\n",
    "            sig[i]=\"G\"\n",
    "    # create a count of remaining unidentified chars, ignoring the \"G\" positions\n",
    "    dic={}\n",
    "    for i in range(5):\n",
    "        if sig[i]!=\"G\":\n",
    "            if answer[i] not in dic:\n",
    "                dic[answer[i]]=1\n",
    "            else:\n",
    "                dic[answer[i]]+=1\n",
    "    for i in range(5):\n",
    "        if sig[i]!=\"G\" and guess[i] in dic:\n",
    "            if dic[guess[i]]>0:\n",
    "                sig[i]=\"Y\"\n",
    "                dic[guess[i]]-=1\n",
    "    ans=\"\"\n",
    "    for char in sig:\n",
    "        ans+=char\n",
    "    return ans"
   ]
  },
  {
   "cell_type": "code",
   "execution_count": 5,
   "id": "5ec60a45",
   "metadata": {},
   "outputs": [
    {
     "data": {
      "text/plain": [
       "'GBYBY'"
      ]
     },
     "execution_count": 5,
     "metadata": {},
     "output_type": "execute_result"
    }
   ],
   "source": [
    "answer=\"ready\"\n",
    "guess=\"rhyme\"\n",
    "wordle(answer,guess)"
   ]
  },
  {
   "cell_type": "code",
   "execution_count": 6,
   "id": "7889419e",
   "metadata": {},
   "outputs": [],
   "source": [
    "# determine the output cypher text for each plaintext word given a key\n",
    "def cypher(df,key):\n",
    "    return df[\"word\"].apply(lambda x: wordle(x,key)).rename(\"cypher\")"
   ]
  },
  {
   "cell_type": "code",
   "execution_count": 7,
   "id": "10dff7fb",
   "metadata": {},
   "outputs": [
    {
     "name": "stdout",
     "output_type": "stream",
     "text": [
      "Using the guess: ready\n"
     ]
    },
    {
     "data": {
      "text/html": [
       "<div>\n",
       "<style scoped>\n",
       "    .dataframe tbody tr th:only-of-type {\n",
       "        vertical-align: middle;\n",
       "    }\n",
       "\n",
       "    .dataframe tbody tr th {\n",
       "        vertical-align: top;\n",
       "    }\n",
       "\n",
       "    .dataframe thead th {\n",
       "        text-align: right;\n",
       "    }\n",
       "</style>\n",
       "<table border=\"1\" class=\"dataframe\">\n",
       "  <thead>\n",
       "    <tr style=\"text-align: right;\">\n",
       "      <th></th>\n",
       "      <th>word</th>\n",
       "      <th>cypher</th>\n",
       "    </tr>\n",
       "  </thead>\n",
       "  <tbody>\n",
       "    <tr>\n",
       "      <th>0</th>\n",
       "      <td>aback</td>\n",
       "      <td>BBGBB</td>\n",
       "    </tr>\n",
       "    <tr>\n",
       "      <th>1</th>\n",
       "      <td>abase</td>\n",
       "      <td>BYGBB</td>\n",
       "    </tr>\n",
       "    <tr>\n",
       "      <th>2</th>\n",
       "      <td>abate</td>\n",
       "      <td>BYGBB</td>\n",
       "    </tr>\n",
       "    <tr>\n",
       "      <th>3</th>\n",
       "      <td>abbey</td>\n",
       "      <td>BYYBG</td>\n",
       "    </tr>\n",
       "    <tr>\n",
       "      <th>4</th>\n",
       "      <td>abbot</td>\n",
       "      <td>BBYBB</td>\n",
       "    </tr>\n",
       "    <tr>\n",
       "      <th>5</th>\n",
       "      <td>abhor</td>\n",
       "      <td>YBYBB</td>\n",
       "    </tr>\n",
       "    <tr>\n",
       "      <th>6</th>\n",
       "      <td>abide</td>\n",
       "      <td>BYYGB</td>\n",
       "    </tr>\n",
       "    <tr>\n",
       "      <th>7</th>\n",
       "      <td>abled</td>\n",
       "      <td>BYYYB</td>\n",
       "    </tr>\n",
       "    <tr>\n",
       "      <th>8</th>\n",
       "      <td>abode</td>\n",
       "      <td>BYYGB</td>\n",
       "    </tr>\n",
       "    <tr>\n",
       "      <th>9</th>\n",
       "      <td>abort</td>\n",
       "      <td>YBYBB</td>\n",
       "    </tr>\n",
       "  </tbody>\n",
       "</table>\n",
       "</div>"
      ],
      "text/plain": [
       "    word cypher\n",
       "0  aback  BBGBB\n",
       "1  abase  BYGBB\n",
       "2  abate  BYGBB\n",
       "3  abbey  BYYBG\n",
       "4  abbot  BBYBB\n",
       "5  abhor  YBYBB\n",
       "6  abide  BYYGB\n",
       "7  abled  BYYYB\n",
       "8  abode  BYYGB\n",
       "9  abort  YBYBB"
      ]
     },
     "execution_count": 7,
     "metadata": {},
     "output_type": "execute_result"
    }
   ],
   "source": [
    "# apply a guess to every word in the list\n",
    "key=\"ready\"\n",
    "print(\"Using the guess:\",key)\n",
    "pd.concat([five.word,cypher(five,key)],axis=1).head(10)"
   ]
  },
  {
   "cell_type": "code",
   "execution_count": 8,
   "id": "2e41eb66",
   "metadata": {},
   "outputs": [],
   "source": [
    "# given a series of categorical values compute the information entropy\n",
    "def entropy(series):\n",
    "    dic={}\n",
    "    n=len(series)\n",
    "    for el in series:\n",
    "        if el not in dic:\n",
    "            dic[el]=1\n",
    "        else:\n",
    "            dic[el]+=1\n",
    "    e=0\n",
    "    for key in dic:\n",
    "        p=dic[key]/n\n",
    "        if p>0:\n",
    "            e -= p*np.log(p)\n",
    "    return e"
   ]
  },
  {
   "cell_type": "code",
   "execution_count": 9,
   "id": "ec719792",
   "metadata": {},
   "outputs": [
    {
     "data": {
      "text/plain": [
       "4.2933900573740065"
      ]
     },
     "execution_count": 9,
     "metadata": {},
     "output_type": "execute_result"
    }
   ],
   "source": [
    "# compute the entropy of the responses as a probability distribution for a given guess\n",
    "guess=\"tares\"\n",
    "entropy(cypher(five,guess))"
   ]
  }
 ],
 "metadata": {
  "kernelspec": {
   "display_name": "Python 3 (ipykernel)",
   "language": "python",
   "name": "python3"
  },
  "language_info": {
   "codemirror_mode": {
    "name": "ipython",
    "version": 3
   },
   "file_extension": ".py",
   "mimetype": "text/x-python",
   "name": "python",
   "nbconvert_exporter": "python",
   "pygments_lexer": "ipython3",
   "version": "3.10.1"
  }
 },
 "nbformat": 4,
 "nbformat_minor": 5
}
