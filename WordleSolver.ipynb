{
 "cells": [
  {
   "cell_type": "code",
   "execution_count": 2,
   "id": "889e1045",
   "metadata": {},
   "outputs": [],
   "source": [
    "import numpy as np\n",
    "import pandas as pd\n",
    "from WordleFunctions import wordle, hardModeFilter, cypher, entropy, nextWord"
   ]
  },
  {
   "cell_type": "code",
   "execution_count": 3,
   "id": "95bdbc58",
   "metadata": {},
   "outputs": [],
   "source": [
    "five = pd.concat([\n",
    "    pd.read_csv(\"wordle-answers-alphabetical.txt\",header=None,names=[\"word\"]),\n",
    "    pd.read_csv(\"wordle-allowed-guesses.txt\",header=None,names=[\"word\"])],axis=0,ignore_index=True\n",
    ")\n",
    "answers = pd.read_csv(\"wordle-answers-alphabetical.txt\",header=None,names=[\"word\"])"
   ]
  },
  {
   "cell_type": "code",
   "execution_count": 4,
   "id": "a2a27655",
   "metadata": {},
   "outputs": [],
   "source": [
    "# prompt user to respond with the Wordle response, e.g. as \"BYYBG\"\n",
    "def getResponse():\n",
    "    while(True):\n",
    "        print(\"Enter response: \")\n",
    "        string=input()\n",
    "        string=string.upper()\n",
    "        if len(string)==0:\n",
    "            return \"\"\n",
    "        if len(string)!=5:\n",
    "            print(\"Response must be exactly 5 characters\")\n",
    "        else:\n",
    "            done=1\n",
    "            for char in string:\n",
    "                if char not in (\"B\",\"G\",\"Y\"):\n",
    "                    print(\"Enter Wordle response using 'B','Y','G'\")\n",
    "                    done=0\n",
    "                    break\n",
    "            if done==1:\n",
    "                break\n",
    "    return string"
   ]
  },
  {
   "cell_type": "code",
   "execution_count": 5,
   "id": "fb2516ea",
   "metadata": {},
   "outputs": [],
   "source": [
    "# Recursively find the best word until solved\n",
    "def solver(dfPossibleAnswers,hardMode):\n",
    "    if hardMode:\n",
    "        guess=\"tirls\"\n",
    "    else:\n",
    "        guess=\"soare\"\n",
    "    dfRemainingGuesses = five\n",
    "    while(True):\n",
    "        print(\"Next guess:\")\n",
    "        print(\"\\t\",guess)\n",
    "        sig=getResponse()\n",
    "        if sig==\"\":\n",
    "            break\n",
    "        if sig==\"GGGGG\":\n",
    "            print(\"Then that's the word!\")\n",
    "            break\n",
    "        dfPossibleAnswers=dfPossibleAnswers[cypher(dfPossibleAnswers.word,guess)==sig]\n",
    "        if hardMode:\n",
    "            dfRemainingGuesses = dfRemainingGuesses[dfRemainingGuesses.word.apply(lambda x: hardModeFilter(x,guess,sig))]\n",
    "            if dfRemainingGuesses.shape[0]>120:\n",
    "                print(dfRemainingGuesses.shape[0],\" guesses remaining\")\n",
    "        if dfPossibleAnswers.shape[0]==1:\n",
    "            print(\"Then the word must be:\")\n",
    "            print(\"\\t\",dfPossibleAnswers.word.iloc[0])\n",
    "            break\n",
    "        if dfPossibleAnswers.shape[0]==0:\n",
    "            print(\"No such word was found.\")\n",
    "            break\n",
    "        guess=nextWord(dfPossibleAnswers.word,dfRemainingGuesses.word,hardMode)"
   ]
  },
  {
   "cell_type": "code",
   "execution_count": 6,
   "id": "77557177",
   "metadata": {},
   "outputs": [
    {
     "name": "stdout",
     "output_type": "stream",
     "text": [
      "Next guess:\n",
      "\t soare\n",
      "Enter response: \n",
      "bbgby\n",
      "Next guess:\n",
      "\t depth\n",
      "Enter response: \n",
      "bgbbb\n",
      "Next guess:\n",
      "\t leafy\n",
      "Enter response: \n",
      "gggbg\n",
      "Then the word must be:\n",
      "\t leaky\n"
     ]
    }
   ],
   "source": [
    "hardMode=False\n",
    "solver(answers,hardMode)"
   ]
  }
 ],
 "metadata": {
  "kernelspec": {
   "display_name": "Python 3 (ipykernel)",
   "language": "python",
   "name": "python3"
  },
  "language_info": {
   "codemirror_mode": {
    "name": "ipython",
    "version": 3
   },
   "file_extension": ".py",
   "mimetype": "text/x-python",
   "name": "python",
   "nbconvert_exporter": "python",
   "pygments_lexer": "ipython3",
   "version": "3.10.1"
  }
 },
 "nbformat": 4,
 "nbformat_minor": 5
}
