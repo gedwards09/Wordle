{
 "cells": [
  {
   "cell_type": "code",
   "execution_count": 1,
   "id": "889e1045",
   "metadata": {},
   "outputs": [],
   "source": [
    "import numpy as np\n",
    "import pandas as pd\n",
    "from WordleFunctions import wordle, hardModeFilter, cypher, entropy, nextWord"
   ]
  },
  {
   "cell_type": "code",
   "execution_count": 2,
   "id": "95bdbc58",
   "metadata": {},
   "outputs": [],
   "source": [
    "five = pd.concat([\n",
    "    pd.read_csv(\"wordle-answers-alphabetical.txt\",header=None,names=[\"word\"]),\n",
    "    pd.read_csv(\"wordle-allowed-guesses.txt\",header=None,names=[\"word\"])],axis=0,ignore_index=True\n",
    ")\n",
    "answers = pd.read_csv(\"wordle-answers-alphabetical.txt\",header=None,names=[\"word\"])"
   ]
  },
  {
   "cell_type": "code",
   "execution_count": 3,
   "id": "a1957c6f",
   "metadata": {},
   "outputs": [
    {
     "data": {
      "text/html": [
       "<div>\n",
       "<style scoped>\n",
       "    .dataframe tbody tr th:only-of-type {\n",
       "        vertical-align: middle;\n",
       "    }\n",
       "\n",
       "    .dataframe tbody tr th {\n",
       "        vertical-align: top;\n",
       "    }\n",
       "\n",
       "    .dataframe thead th {\n",
       "        text-align: right;\n",
       "    }\n",
       "</style>\n",
       "<table border=\"1\" class=\"dataframe\">\n",
       "  <thead>\n",
       "    <tr style=\"text-align: right;\">\n",
       "      <th></th>\n",
       "      <th>word</th>\n",
       "    </tr>\n",
       "  </thead>\n",
       "  <tbody>\n",
       "    <tr>\n",
       "      <th>0</th>\n",
       "      <td>aback</td>\n",
       "    </tr>\n",
       "    <tr>\n",
       "      <th>1</th>\n",
       "      <td>abase</td>\n",
       "    </tr>\n",
       "    <tr>\n",
       "      <th>2</th>\n",
       "      <td>abate</td>\n",
       "    </tr>\n",
       "    <tr>\n",
       "      <th>3</th>\n",
       "      <td>abbey</td>\n",
       "    </tr>\n",
       "    <tr>\n",
       "      <th>4</th>\n",
       "      <td>abbot</td>\n",
       "    </tr>\n",
       "    <tr>\n",
       "      <th>5</th>\n",
       "      <td>abhor</td>\n",
       "    </tr>\n",
       "    <tr>\n",
       "      <th>6</th>\n",
       "      <td>abide</td>\n",
       "    </tr>\n",
       "    <tr>\n",
       "      <th>7</th>\n",
       "      <td>abled</td>\n",
       "    </tr>\n",
       "    <tr>\n",
       "      <th>8</th>\n",
       "      <td>abode</td>\n",
       "    </tr>\n",
       "    <tr>\n",
       "      <th>9</th>\n",
       "      <td>abort</td>\n",
       "    </tr>\n",
       "  </tbody>\n",
       "</table>\n",
       "</div>"
      ],
      "text/plain": [
       "    word\n",
       "0  aback\n",
       "1  abase\n",
       "2  abate\n",
       "3  abbey\n",
       "4  abbot\n",
       "5  abhor\n",
       "6  abide\n",
       "7  abled\n",
       "8  abode\n",
       "9  abort"
      ]
     },
     "execution_count": 3,
     "metadata": {},
     "output_type": "execute_result"
    }
   ],
   "source": [
    "five.head(10)"
   ]
  },
  {
   "cell_type": "code",
   "execution_count": 4,
   "id": "830b4c31",
   "metadata": {},
   "outputs": [
    {
     "data": {
      "text/plain": [
       "'GBYBY'"
      ]
     },
     "execution_count": 4,
     "metadata": {},
     "output_type": "execute_result"
    }
   ],
   "source": [
    "# use wordle() to compute the Wordle response for a given answer and guess\n",
    "answer=\"ready\"\n",
    "guess=\"rhyme\"\n",
    "wordle(answer,guess)"
   ]
  },
  {
   "cell_type": "code",
   "execution_count": 5,
   "id": "a02c1ade",
   "metadata": {},
   "outputs": [
    {
     "name": "stdout",
     "output_type": "stream",
     "text": [
      "Using the guess: ready\n"
     ]
    },
    {
     "data": {
      "text/html": [
       "<div>\n",
       "<style scoped>\n",
       "    .dataframe tbody tr th:only-of-type {\n",
       "        vertical-align: middle;\n",
       "    }\n",
       "\n",
       "    .dataframe tbody tr th {\n",
       "        vertical-align: top;\n",
       "    }\n",
       "\n",
       "    .dataframe thead th {\n",
       "        text-align: right;\n",
       "    }\n",
       "</style>\n",
       "<table border=\"1\" class=\"dataframe\">\n",
       "  <thead>\n",
       "    <tr style=\"text-align: right;\">\n",
       "      <th></th>\n",
       "      <th>word</th>\n",
       "      <th>cypher</th>\n",
       "    </tr>\n",
       "  </thead>\n",
       "  <tbody>\n",
       "    <tr>\n",
       "      <th>0</th>\n",
       "      <td>aback</td>\n",
       "      <td>BBGBB</td>\n",
       "    </tr>\n",
       "    <tr>\n",
       "      <th>1</th>\n",
       "      <td>abase</td>\n",
       "      <td>BYGBB</td>\n",
       "    </tr>\n",
       "    <tr>\n",
       "      <th>2</th>\n",
       "      <td>abate</td>\n",
       "      <td>BYGBB</td>\n",
       "    </tr>\n",
       "    <tr>\n",
       "      <th>3</th>\n",
       "      <td>abbey</td>\n",
       "      <td>BYYBG</td>\n",
       "    </tr>\n",
       "    <tr>\n",
       "      <th>4</th>\n",
       "      <td>abbot</td>\n",
       "      <td>BBYBB</td>\n",
       "    </tr>\n",
       "    <tr>\n",
       "      <th>5</th>\n",
       "      <td>abhor</td>\n",
       "      <td>YBYBB</td>\n",
       "    </tr>\n",
       "    <tr>\n",
       "      <th>6</th>\n",
       "      <td>abide</td>\n",
       "      <td>BYYGB</td>\n",
       "    </tr>\n",
       "    <tr>\n",
       "      <th>7</th>\n",
       "      <td>abled</td>\n",
       "      <td>BYYYB</td>\n",
       "    </tr>\n",
       "    <tr>\n",
       "      <th>8</th>\n",
       "      <td>abode</td>\n",
       "      <td>BYYGB</td>\n",
       "    </tr>\n",
       "    <tr>\n",
       "      <th>9</th>\n",
       "      <td>abort</td>\n",
       "      <td>YBYBB</td>\n",
       "    </tr>\n",
       "  </tbody>\n",
       "</table>\n",
       "</div>"
      ],
      "text/plain": [
       "    word cypher\n",
       "0  aback  BBGBB\n",
       "1  abase  BYGBB\n",
       "2  abate  BYGBB\n",
       "3  abbey  BYYBG\n",
       "4  abbot  BBYBB\n",
       "5  abhor  YBYBB\n",
       "6  abide  BYYGB\n",
       "7  abled  BYYYB\n",
       "8  abode  BYYGB\n",
       "9  abort  YBYBB"
      ]
     },
     "execution_count": 5,
     "metadata": {},
     "output_type": "execute_result"
    }
   ],
   "source": [
    "# apply a guess to every word in the list\n",
    "key=\"ready\"\n",
    "print(\"Using the guess:\",key)\n",
    "pd.concat([five.word,cypher(five.word,key)],axis=1).head(10)"
   ]
  },
  {
   "cell_type": "code",
   "execution_count": 6,
   "id": "1c65fe8f",
   "metadata": {},
   "outputs": [
    {
     "data": {
      "text/plain": [
       "4.2933900573740065"
      ]
     },
     "execution_count": 6,
     "metadata": {},
     "output_type": "execute_result"
    }
   ],
   "source": [
    "# compute the entropy of the category responses, considered as a probability distribution for a given guess\n",
    "guess=\"tares\"\n",
    "entropy(cypher(five.word,guess))"
   ]
  },
  {
   "cell_type": "code",
   "execution_count": 7,
   "id": "a2a27655",
   "metadata": {},
   "outputs": [],
   "source": [
    "# prompt user to respond with the Wordle response, e.g. as \"BYYBG\"\n",
    "def getResponse():\n",
    "    while(True):\n",
    "        print(\"Enter response: \")\n",
    "        string=input()\n",
    "        string=string.upper()\n",
    "        if len(string)==0:\n",
    "            return \"\"\n",
    "        if len(string)!=5:\n",
    "            print(\"Response must be exactly 5 characters\")\n",
    "        else:\n",
    "            done=1\n",
    "            for char in string:\n",
    "                if char not in (\"B\",\"G\",\"Y\"):\n",
    "                    print(\"Enter Wordle response using 'B','Y','G'\")\n",
    "                    done=0\n",
    "                    break\n",
    "            if done==1:\n",
    "                break\n",
    "    return string"
   ]
  },
  {
   "cell_type": "code",
   "execution_count": 8,
   "id": "fb2516ea",
   "metadata": {},
   "outputs": [],
   "source": [
    "# Recursively find the best word until solved\n",
    "def solver(dfPossibleAnswers,hardMode):\n",
    "    guess=\"soare\"\n",
    "    dfRemainingGuesses = five\n",
    "    while(True):\n",
    "        print(\"Next guess:\")\n",
    "        print(\"\\t\",guess)\n",
    "        sig=getResponse()\n",
    "        if sig==\"\":\n",
    "            break\n",
    "        if sig==\"GGGGG\":\n",
    "            print(\"Then that's the word!\")\n",
    "            break\n",
    "        dfPossibleAnswers=dfPossibleAnswers[cypher(dfPossibleAnswers.word,guess)==sig]\n",
    "        if hardMode:\n",
    "            dfRemainingGuesses = dfRemainingGuesses[dfRemainingGuesses.word.apply(lambda x: hardModeFilter(x,guess,sig))]\n",
    "        if dfPossibleAnswers.shape[0]==1:\n",
    "            print(\"Then the word must be:\")\n",
    "            print(\"\\t\",dfPossibleAnswers.word.iloc[0])\n",
    "            break\n",
    "        if dfPossibleAnswers.shape[0]==0:\n",
    "            print(\"No such word was found.\")\n",
    "            break\n",
    "        guess=nextWord(dfPossibleAnswers.word,dfRemainingGuesses.word,hardMode)"
   ]
  },
  {
   "cell_type": "code",
   "execution_count": 9,
   "id": "77557177",
   "metadata": {},
   "outputs": [
    {
     "name": "stdout",
     "output_type": "stream",
     "text": [
      "Next guess:\n",
      "\t soare\n",
      "Enter response: \n",
      "yybbg\n",
      "Next guess:\n",
      "\t chose\n",
      "Enter response: \n",
      "bgggg\n",
      "Next guess:\n",
      "\t those\n",
      "Enter response: \n",
      "ggggg\n",
      "Then that's the word!\n"
     ]
    }
   ],
   "source": [
    "solver(answers,True)"
   ]
  },
  {
   "cell_type": "code",
   "execution_count": null,
   "id": "00aeacb9",
   "metadata": {},
   "outputs": [],
   "source": []
  }
 ],
 "metadata": {
  "kernelspec": {
   "display_name": "Python 3 (ipykernel)",
   "language": "python",
   "name": "python3"
  },
  "language_info": {
   "codemirror_mode": {
    "name": "ipython",
    "version": 3
   },
   "file_extension": ".py",
   "mimetype": "text/x-python",
   "name": "python",
   "nbconvert_exporter": "python",
   "pygments_lexer": "ipython3",
   "version": "3.10.1"
  }
 },
 "nbformat": 4,
 "nbformat_minor": 5
}
