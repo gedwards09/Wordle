{
 "cells": [
  {
   "cell_type": "code",
   "execution_count": 1,
   "id": "0cbc6389",
   "metadata": {},
   "outputs": [],
   "source": [
    "import numpy as np\n",
    "import pandas as pd\n",
    "import time\n",
    "from WordleFunctions import wordle, hardModeFilter, cypher, entropy, nextWord"
   ]
  },
  {
   "cell_type": "code",
   "execution_count": 2,
   "id": "024c443a",
   "metadata": {},
   "outputs": [],
   "source": [
    "five = pd.concat([\n",
    "    pd.read_csv(\"wordle-answers-alphabetical.txt\",header=None,names=[\"word\"]),\n",
    "    pd.read_csv(\"wordle-allowed-guesses.txt\",header=None,names=[\"word\"])],axis=0,ignore_index=True\n",
    ")\n",
    "answers = pd.read_csv(\"wordle-answers-alphabetical.txt\",header=None,names=[\"word\"])"
   ]
  },
  {
   "cell_type": "code",
   "execution_count": 3,
   "id": "0fc4c1a7",
   "metadata": {},
   "outputs": [
    {
     "name": "stdout",
     "output_type": "stream",
     "text": [
      "Finished 100 words in 7.26 minutes\n",
      "Average:  3.19\n",
      "Finished 200 words in 14.99 minutes\n",
      "Average:  3.22\n",
      "Finished 300 words in 25.59 minutes\n",
      "Average:  3.3133\n",
      "Finished 400 words in 34.77 minutes\n",
      "Average:  3.325\n",
      "Finished 500 words in 45.34 minutes\n",
      "Average:  3.374\n",
      "Finished 600 words in 55.53 minutes\n",
      "Average:  3.3633\n",
      "Finished 700 words in 64.58 minutes\n",
      "Average:  3.3657\n",
      "Finished 800 words in 73.99 minutes\n",
      "Average:  3.3825\n",
      "Finished 900 words in 84.24 minutes\n",
      "Average:  3.4011\n",
      "Finished 1000 words in 94.45 minutes\n",
      "Average:  3.417\n",
      "Finished 1100 words in 104.98 minutes\n",
      "Average:  3.4382\n",
      "Finished 1200 words in 112.58 minutes\n",
      "Average:  3.4267\n",
      "Finished 1300 words in 122.2 minutes\n",
      "Average:  3.4323\n",
      "Finished 1400 words in 131.35 minutes\n",
      "Average:  3.4357\n",
      "Finished 1500 words in 142.76 minutes\n",
      "Average:  3.456\n",
      "Finished 1600 words in 151.54 minutes\n",
      "Average:  3.4613\n",
      "Finished 1700 words in 159.04 minutes\n",
      "Average:  3.4512\n",
      "Finished 1800 words in 165.25 minutes\n",
      "Average:  3.4372\n",
      "Finished 1900 words in 171.14 minutes\n",
      "Average:  3.4232\n",
      "Finished 2000 words in 176.95 minutes\n",
      "Average:  3.418\n",
      "Finished 2100 words in 183.53 minutes\n",
      "Average:  3.4133\n",
      "Finished 2200 words in 191.28 minutes\n",
      "Average:  3.4141\n",
      "Finished 2300 words in 201.87 minutes\n",
      "Average:  3.4313\n",
      "[0, 79, 1208, 979, 47, 2, 0]\n"
     ]
    }
   ],
   "source": [
    "startTime=time.time()\n",
    "answers = pd.read_csv(\"wordle-answers-alphabetical.txt\",header=None,names=[\"word\"])\n",
    "file=open('wordle-guesses.txt','w')\n",
    "hardMode=False\n",
    "distribution=[0 for i in range(7)]\n",
    "num=0\n",
    "for answer in answers.word:\n",
    "    dfPossibleAnswers=answers\n",
    "    dfGuesses=five\n",
    "    guess=\"salet\"\n",
    "    file.write(guess) # write initial guess to file\n",
    "    ct=1 # initialize guess count at 1\n",
    "    while guess!=answer:\n",
    "        response=wordle(answer,guess)\n",
    "        dfPossibleAnswers=dfPossibleAnswers[cypher(dfPossibleAnswers.word,guess)==response] #filter possible words\n",
    "        if hardMode:\n",
    "            dfGuesses=dfGuesses[dfGuesses.word.apply(lambda x: hardModeFilter(x,guess,response))]\n",
    "        if dfPossibleAnswers.shape[0]==1:\n",
    "            guess=dfPossibleAnswers.word.iloc[0]\n",
    "        else:\n",
    "            guess=nextWord(dfPossibleAnswers.word,dfGuesses.word)\n",
    "        file.write(',')\n",
    "        file.write(guess) # write next guess to file, stop when guess==answer\n",
    "        ct+=1\n",
    "    file.write('\\n')\n",
    "    if ct>6:\n",
    "        print(\"One failed\")\n",
    "        distribution[6]+=1\n",
    "    else:\n",
    "        distribution[ct-1]+=1\n",
    "    num+=1\n",
    "    if num%100==0:\n",
    "        print(\"Finished\",num,\"words in\",round((time.time() - startTime)/60,2),\"minutes\")\n",
    "        tot=0\n",
    "        for i in range(len(distribution)):\n",
    "            tot+=(i+1)*distribution[i]\n",
    "        mean=tot/num\n",
    "        print(\"Average: \",round(mean,4))\n",
    "file.close()\n",
    "print(distribution)"
   ]
  }
 ],
 "metadata": {
  "kernelspec": {
   "display_name": "Python 3 (ipykernel)",
   "language": "python",
   "name": "python3"
  },
  "language_info": {
   "codemirror_mode": {
    "name": "ipython",
    "version": 3
   },
   "file_extension": ".py",
   "mimetype": "text/x-python",
   "name": "python",
   "nbconvert_exporter": "python",
   "pygments_lexer": "ipython3",
   "version": "3.10.1"
  }
 },
 "nbformat": 4,
 "nbformat_minor": 5
}
