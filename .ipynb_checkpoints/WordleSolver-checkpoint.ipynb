{
 "cells": [
  {
   "cell_type": "code",
   "execution_count": 1,
   "id": "0cbc6389",
   "metadata": {},
   "outputs": [],
   "source": [
    "import numpy as np\n",
    "import pandas as pd\n",
    "import time"
   ]
  },
  {
   "cell_type": "code",
   "execution_count": 2,
   "id": "024c443a",
   "metadata": {},
   "outputs": [],
   "source": [
    "five = pd.concat([\n",
    "    pd.read_csv(\"wordle-answers-alphabetical.txt\",header=None,names=[\"word\"]),\n",
    "    pd.read_csv(\"wordle-allowed-guesses.txt\",header=None,names=[\"word\"])],axis=0,ignore_index=True\n",
    ")\n",
    "answers = pd.read_csv(\"wordle-answers-alphabetical.txt\",header=None,names=[\"word\"])"
   ]
  },
  {
   "cell_type": "code",
   "execution_count": 3,
   "id": "815c2990",
   "metadata": {},
   "outputs": [
    {
     "data": {
      "text/html": [
       "<div>\n",
       "<style scoped>\n",
       "    .dataframe tbody tr th:only-of-type {\n",
       "        vertical-align: middle;\n",
       "    }\n",
       "\n",
       "    .dataframe tbody tr th {\n",
       "        vertical-align: top;\n",
       "    }\n",
       "\n",
       "    .dataframe thead th {\n",
       "        text-align: right;\n",
       "    }\n",
       "</style>\n",
       "<table border=\"1\" class=\"dataframe\">\n",
       "  <thead>\n",
       "    <tr style=\"text-align: right;\">\n",
       "      <th></th>\n",
       "      <th>word</th>\n",
       "    </tr>\n",
       "  </thead>\n",
       "  <tbody>\n",
       "    <tr>\n",
       "      <th>0</th>\n",
       "      <td>aback</td>\n",
       "    </tr>\n",
       "    <tr>\n",
       "      <th>1</th>\n",
       "      <td>abase</td>\n",
       "    </tr>\n",
       "    <tr>\n",
       "      <th>2</th>\n",
       "      <td>abate</td>\n",
       "    </tr>\n",
       "    <tr>\n",
       "      <th>3</th>\n",
       "      <td>abbey</td>\n",
       "    </tr>\n",
       "    <tr>\n",
       "      <th>4</th>\n",
       "      <td>abbot</td>\n",
       "    </tr>\n",
       "    <tr>\n",
       "      <th>5</th>\n",
       "      <td>abhor</td>\n",
       "    </tr>\n",
       "    <tr>\n",
       "      <th>6</th>\n",
       "      <td>abide</td>\n",
       "    </tr>\n",
       "    <tr>\n",
       "      <th>7</th>\n",
       "      <td>abled</td>\n",
       "    </tr>\n",
       "    <tr>\n",
       "      <th>8</th>\n",
       "      <td>abode</td>\n",
       "    </tr>\n",
       "    <tr>\n",
       "      <th>9</th>\n",
       "      <td>abort</td>\n",
       "    </tr>\n",
       "  </tbody>\n",
       "</table>\n",
       "</div>"
      ],
      "text/plain": [
       "    word\n",
       "0  aback\n",
       "1  abase\n",
       "2  abate\n",
       "3  abbey\n",
       "4  abbot\n",
       "5  abhor\n",
       "6  abide\n",
       "7  abled\n",
       "8  abode\n",
       "9  abort"
      ]
     },
     "execution_count": 3,
     "metadata": {},
     "output_type": "execute_result"
    }
   ],
   "source": [
    "five.head(10)"
   ]
  },
  {
   "cell_type": "code",
   "execution_count": 4,
   "id": "32c260bc",
   "metadata": {},
   "outputs": [],
   "source": [
    "def wordle(answer,guess):\n",
    "    sig=[\"B\",\"B\",\"B\",\"B\",\"B\"]\n",
    "    for i in range(5):\n",
    "        if answer[i]==guess[i]:\n",
    "            sig[i]=\"G\"\n",
    "    # create a count of remaining unidentified chars, ignoring the \"G\" positions\n",
    "    dic={}\n",
    "    for i in range(5):\n",
    "        if sig[i]!=\"G\":\n",
    "            if answer[i] not in dic:\n",
    "                dic[answer[i]]=1\n",
    "            else:\n",
    "                dic[answer[i]]+=1\n",
    "    for i in range(5):\n",
    "        if sig[i]!=\"G\" and guess[i] in dic:\n",
    "            if dic[guess[i]]>0:\n",
    "                sig[i]=\"Y\"\n",
    "                dic[guess[i]]-=1\n",
    "    ans=\"\"\n",
    "    for char in sig:\n",
    "        ans+=char\n",
    "    return ans"
   ]
  },
  {
   "cell_type": "code",
   "execution_count": 5,
   "id": "5ec60a45",
   "metadata": {},
   "outputs": [
    {
     "data": {
      "text/plain": [
       "'GBYBY'"
      ]
     },
     "execution_count": 5,
     "metadata": {},
     "output_type": "execute_result"
    }
   ],
   "source": [
    "answer=\"ready\"\n",
    "guess=\"rhyme\"\n",
    "wordle(answer,guess)"
   ]
  },
  {
   "cell_type": "code",
   "execution_count": 6,
   "id": "7889419e",
   "metadata": {},
   "outputs": [],
   "source": [
    "# determine the output cypher text for each plaintext word given a key\n",
    "def cypher(words,key):\n",
    "    return words.apply(lambda x: wordle(x,key)).rename(\"cypher\")"
   ]
  },
  {
   "cell_type": "code",
   "execution_count": 7,
   "id": "10dff7fb",
   "metadata": {},
   "outputs": [
    {
     "name": "stdout",
     "output_type": "stream",
     "text": [
      "Using the guess: ready\n"
     ]
    },
    {
     "data": {
      "text/html": [
       "<div>\n",
       "<style scoped>\n",
       "    .dataframe tbody tr th:only-of-type {\n",
       "        vertical-align: middle;\n",
       "    }\n",
       "\n",
       "    .dataframe tbody tr th {\n",
       "        vertical-align: top;\n",
       "    }\n",
       "\n",
       "    .dataframe thead th {\n",
       "        text-align: right;\n",
       "    }\n",
       "</style>\n",
       "<table border=\"1\" class=\"dataframe\">\n",
       "  <thead>\n",
       "    <tr style=\"text-align: right;\">\n",
       "      <th></th>\n",
       "      <th>word</th>\n",
       "      <th>cypher</th>\n",
       "    </tr>\n",
       "  </thead>\n",
       "  <tbody>\n",
       "    <tr>\n",
       "      <th>0</th>\n",
       "      <td>aback</td>\n",
       "      <td>BBGBB</td>\n",
       "    </tr>\n",
       "    <tr>\n",
       "      <th>1</th>\n",
       "      <td>abase</td>\n",
       "      <td>BYGBB</td>\n",
       "    </tr>\n",
       "    <tr>\n",
       "      <th>2</th>\n",
       "      <td>abate</td>\n",
       "      <td>BYGBB</td>\n",
       "    </tr>\n",
       "    <tr>\n",
       "      <th>3</th>\n",
       "      <td>abbey</td>\n",
       "      <td>BYYBG</td>\n",
       "    </tr>\n",
       "    <tr>\n",
       "      <th>4</th>\n",
       "      <td>abbot</td>\n",
       "      <td>BBYBB</td>\n",
       "    </tr>\n",
       "    <tr>\n",
       "      <th>5</th>\n",
       "      <td>abhor</td>\n",
       "      <td>YBYBB</td>\n",
       "    </tr>\n",
       "    <tr>\n",
       "      <th>6</th>\n",
       "      <td>abide</td>\n",
       "      <td>BYYGB</td>\n",
       "    </tr>\n",
       "    <tr>\n",
       "      <th>7</th>\n",
       "      <td>abled</td>\n",
       "      <td>BYYYB</td>\n",
       "    </tr>\n",
       "    <tr>\n",
       "      <th>8</th>\n",
       "      <td>abode</td>\n",
       "      <td>BYYGB</td>\n",
       "    </tr>\n",
       "    <tr>\n",
       "      <th>9</th>\n",
       "      <td>abort</td>\n",
       "      <td>YBYBB</td>\n",
       "    </tr>\n",
       "  </tbody>\n",
       "</table>\n",
       "</div>"
      ],
      "text/plain": [
       "    word cypher\n",
       "0  aback  BBGBB\n",
       "1  abase  BYGBB\n",
       "2  abate  BYGBB\n",
       "3  abbey  BYYBG\n",
       "4  abbot  BBYBB\n",
       "5  abhor  YBYBB\n",
       "6  abide  BYYGB\n",
       "7  abled  BYYYB\n",
       "8  abode  BYYGB\n",
       "9  abort  YBYBB"
      ]
     },
     "execution_count": 7,
     "metadata": {},
     "output_type": "execute_result"
    }
   ],
   "source": [
    "# apply a guess to every word in the list\n",
    "key=\"ready\"\n",
    "print(\"Using the guess:\",key)\n",
    "pd.concat([five.word,cypher(five.word,key)],axis=1).head(10)"
   ]
  },
  {
   "cell_type": "code",
   "execution_count": 8,
   "id": "2e41eb66",
   "metadata": {},
   "outputs": [],
   "source": [
    "# given a series of categorical values compute the information entropy\n",
    "def entropy(series):\n",
    "    dic={}\n",
    "    n=len(series)\n",
    "    for el in series:\n",
    "        if el not in dic:\n",
    "            dic[el]=1\n",
    "        else:\n",
    "            dic[el]+=1\n",
    "    e=0\n",
    "    for key in dic:\n",
    "        p=dic[key]/n\n",
    "        if p>0:\n",
    "            e -= p*np.log(p)\n",
    "    return e"
   ]
  },
  {
   "cell_type": "code",
   "execution_count": 9,
   "id": "ec719792",
   "metadata": {},
   "outputs": [
    {
     "data": {
      "text/plain": [
       "4.2933900573740065"
      ]
     },
     "execution_count": 9,
     "metadata": {},
     "output_type": "execute_result"
    }
   ],
   "source": [
    "# compute the entropy of the responses as a probability distribution for a given guess\n",
    "guess=\"tares\"\n",
    "entropy(cypher(five.word,guess))"
   ]
  },
  {
   "cell_type": "code",
   "execution_count": 10,
   "id": "1af619a8",
   "metadata": {},
   "outputs": [],
   "source": [
    "# Determine the best next guess by choosing the word which maximizes information entropy\n",
    "# considers all words as potential candidates.\n",
    "def nextWord(possibleWords,allWords):\n",
    "    n=len(possibleWords)\n",
    "    ans=\"\"\n",
    "    m=0\n",
    "    for i in range(len(allWords)):\n",
    "        word=allWords.iloc[i]\n",
    "        series=cypher(possibleWords,word)\n",
    "        e=entropy(series)\n",
    "        # apply a boost for words which are still candiates\n",
    "        # boost is positive since np.log(1-1/n)<0\n",
    "        if i in possibleWords.index:\n",
    "            e-=(1-1/n)*np.log(1-1/n)\n",
    "        if e>m:\n",
    "            m=e\n",
    "            ans=word\n",
    "    return ans"
   ]
  },
  {
   "cell_type": "code",
   "execution_count": 11,
   "id": "efafcc75",
   "metadata": {},
   "outputs": [],
   "source": [
    "# prompt user to respond with the Wordle response, e.g. as \"BYYBG\"\n",
    "def getResponse():\n",
    "    while(True):\n",
    "        print(\"Enter response: \")\n",
    "        string=input()\n",
    "        string=string.upper()\n",
    "        if len(string)==0:\n",
    "            return \"\"\n",
    "        if len(string)!=5:\n",
    "            print(\"Response must be exactly 5 characters\")\n",
    "        else:\n",
    "            done=1\n",
    "            for char in string:\n",
    "                if char not in (\"B\",\"G\",\"Y\"):\n",
    "                    print(\"Enter Wordle response using 'B','Y','G'\")\n",
    "                    done=0\n",
    "                    break\n",
    "            if done==1:\n",
    "                break\n",
    "    return string"
   ]
  },
  {
   "cell_type": "code",
   "execution_count": 20,
   "id": "91b62d5e",
   "metadata": {},
   "outputs": [],
   "source": [
    "# Recursively find the best word until solved\n",
    "def solver(df):\n",
    "    guess=\"soare\"\n",
    "    while(True):\n",
    "        print(\"Next guess:\")\n",
    "        print(\"\\t\",guess)\n",
    "        sig=getResponse()\n",
    "        if sig==\"\":\n",
    "            break\n",
    "        if sig==\"GGGGG\":\n",
    "            print(\"Then that's the word!\")\n",
    "            break\n",
    "        df=df[cypher(df.word,guess)==sig]\n",
    "        if df.shape[0]==1:\n",
    "            print(\"Then the word must be:\")\n",
    "            print(\"\\t\",df.word.iloc[0])\n",
    "            break\n",
    "        if df.shape[0]==0:\n",
    "            print(\"No such word was found.\")\n",
    "            break\n",
    "        guess=nextWord(df.word,five.word)"
   ]
  },
  {
   "cell_type": "code",
   "execution_count": 21,
   "id": "912e8953",
   "metadata": {},
   "outputs": [
    {
     "name": "stdout",
     "output_type": "stream",
     "text": [
      "Next guess:\n",
      "\t soare\n",
      "Enter response: \n",
      "GBYYB\n",
      "Next guess:\n",
      "\t empty\n",
      "Enter response: \n",
      "BBBBB\n",
      "Then the word must be:\n",
      "\t sugar\n"
     ]
    }
   ],
   "source": [
    "solver(answers)"
   ]
  },
  {
   "cell_type": "code",
   "execution_count": 24,
   "id": "0fc4c1a7",
   "metadata": {},
   "outputs": [
    {
     "name": "stdout",
     "output_type": "stream",
     "text": [
      "Finished 100 words in 8.04 minutes\n",
      "Finished 200 words in 16.88 minutes\n",
      "Finished 300 words in 26.15 minutes\n",
      "Finished 400 words in 34.97 minutes\n",
      "Finished 500 words in 42.92 minutes\n",
      "Finished 600 words in 52.76 minutes\n",
      "Finished 700 words in 62.01 minutes\n",
      "Finished 800 words in 71.87 minutes\n",
      "Finished 900 words in 81.0 minutes\n",
      "Finished 1000 words in 89.78 minutes\n",
      "Finished 1100 words in 99.85 minutes\n",
      "Finished 1200 words in 109.63 minutes\n",
      "Finished 1300 words in 118.84 minutes\n",
      "Finished 1400 words in 126.51 minutes\n",
      "Finished 1500 words in 136.34 minutes\n",
      "Finished 1600 words in 145.12 minutes\n",
      "Finished 1700 words in 150.8 minutes\n",
      "Finished 1800 words in 157.18 minutes\n",
      "Finished 1900 words in 163.24 minutes\n",
      "Finished 2000 words in 170.09 minutes\n",
      "Finished 2100 words in 178.58 minutes\n",
      "Finished 2200 words in 187.59 minutes\n",
      "Finished 2300 words in 197.28 minutes\n",
      "330.7142857142857\n",
      "[0, 46, 1217, 987, 64, 1, 0]\n"
     ]
    }
   ],
   "source": [
    "startTime=time.time()\n",
    "answers = pd.read_csv(\"wordle-answers-alphabetical.txt\",header=None,names=[\"word\"])\n",
    "# initial guess\n",
    "file=open('wordle-guesses.txt','w')\n",
    "distribution=[0 for i in range(7)]\n",
    "num=0\n",
    "for answer in answers.word:\n",
    "    df=answers\n",
    "    guess=\"soare\"\n",
    "    file.write(guess) # write initial guess to file\n",
    "    ct=1 # initialize guess count at 1\n",
    "    while guess!=answer:\n",
    "        response=wordle(answer,guess)\n",
    "        df=df[cypher(df.word,guess)==response] #filter possible words\n",
    "        if df.shape[0]==1:\n",
    "            guess=df.word.iloc[0]\n",
    "        else:\n",
    "            guess=nextWord(df.word,five.word)\n",
    "        file.write(',')\n",
    "        file.write(guess) # write next guess to file, stop when guess==answer\n",
    "        ct+=1\n",
    "    file.write('\\n')\n",
    "    if ct>6:\n",
    "        distribution[6]+=1\n",
    "    else:\n",
    "        distribution[ct-1]+=1\n",
    "    num+=1\n",
    "    if num%100==0:\n",
    "        print(\"Finished\",num,\"words in\",round((time.time() - startTime)/60,2),\"minutes\")\n",
    "file.close()\n",
    "print(np.average(distribution))\n",
    "print(distribution)"
   ]
  }
 ],
 "metadata": {
  "kernelspec": {
   "display_name": "Python 3 (ipykernel)",
   "language": "python",
   "name": "python3"
  },
  "language_info": {
   "codemirror_mode": {
    "name": "ipython",
    "version": 3
   },
   "file_extension": ".py",
   "mimetype": "text/x-python",
   "name": "python",
   "nbconvert_exporter": "python",
   "pygments_lexer": "ipython3",
   "version": "3.10.1"
  }
 },
 "nbformat": 4,
 "nbformat_minor": 5
}
