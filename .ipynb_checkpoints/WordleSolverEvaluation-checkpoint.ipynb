{
 "cells": [
  {
   "cell_type": "code",
   "execution_count": 1,
   "id": "0cbc6389",
   "metadata": {},
   "outputs": [],
   "source": [
    "import numpy as np\n",
    "import pandas as pd\n",
    "import time"
   ]
  },
  {
   "cell_type": "code",
   "execution_count": 2,
   "id": "024c443a",
   "metadata": {},
   "outputs": [],
   "source": [
    "five = pd.concat([\n",
    "    pd.read_csv(\"wordle-answers-alphabetical.txt\",header=None,names=[\"word\"]),\n",
    "    pd.read_csv(\"wordle-allowed-guesses.txt\",header=None,names=[\"word\"])],axis=0,ignore_index=True\n",
    ")\n",
    "answers = pd.read_csv(\"wordle-answers-alphabetical.txt\",header=None,names=[\"word\"])"
   ]
  },
  {
   "cell_type": "code",
   "execution_count": 4,
   "id": "32c260bc",
   "metadata": {},
   "outputs": [],
   "source": [
    "def wordle(answer,guess):\n",
    "    sig=[\"B\",\"B\",\"B\",\"B\",\"B\"]\n",
    "    for i in range(5):\n",
    "        if answer[i]==guess[i]:\n",
    "            sig[i]=\"G\"\n",
    "    # create a count of remaining unidentified chars, ignoring the \"G\" positions\n",
    "    dic={}\n",
    "    for i in range(5):\n",
    "        if sig[i]!=\"G\":\n",
    "            if answer[i] not in dic:\n",
    "                dic[answer[i]]=1\n",
    "            else:\n",
    "                dic[answer[i]]+=1\n",
    "    for i in range(5):\n",
    "        if sig[i]!=\"G\" and guess[i] in dic:\n",
    "            if dic[guess[i]]>0:\n",
    "                sig[i]=\"Y\"\n",
    "                dic[guess[i]]-=1\n",
    "    ans=\"\"\n",
    "    for char in sig:\n",
    "        ans+=char\n",
    "    return ans"
   ]
  },
  {
   "cell_type": "code",
   "execution_count": 6,
   "id": "7889419e",
   "metadata": {},
   "outputs": [],
   "source": [
    "# determine the output cypher text for each plaintext word given a key\n",
    "def cypher(words,key):\n",
    "    return words.apply(lambda x: wordle(x,key)).rename(\"cypher\")"
   ]
  },
  {
   "cell_type": "code",
   "execution_count": 8,
   "id": "2e41eb66",
   "metadata": {},
   "outputs": [],
   "source": [
    "# given a series of categorical values compute the information entropy\n",
    "def entropy(series):\n",
    "    dic={}\n",
    "    n=len(series)\n",
    "    for el in series:\n",
    "        if el not in dic:\n",
    "            dic[el]=1\n",
    "        else:\n",
    "            dic[el]+=1\n",
    "    e=0\n",
    "    for key in dic:\n",
    "        p=dic[key]/n\n",
    "        if p>0:\n",
    "            e -= p*np.log(p)\n",
    "    return e"
   ]
  },
  {
   "cell_type": "code",
   "execution_count": 9,
   "id": "ec719792",
   "metadata": {},
   "outputs": [
    {
     "data": {
      "text/plain": [
       "4.2933900573740065"
      ]
     },
     "execution_count": 9,
     "metadata": {},
     "output_type": "execute_result"
    }
   ],
   "source": [
    "# compute the entropy of the responses as a probability distribution for a given guess\n",
    "guess=\"tares\"\n",
    "entropy(cypher(five.word,guess))"
   ]
  },
  {
   "cell_type": "code",
   "execution_count": 10,
   "id": "1af619a8",
   "metadata": {},
   "outputs": [],
   "source": [
    "# Determine the best next guess by choosing the word which maximizes information entropy\n",
    "# considers all words as potential candidates.\n",
    "def nextWord(possibleWords,allWords):\n",
    "    n=len(possibleWords)\n",
    "    ans=\"\"\n",
    "    m=0\n",
    "    for i in range(len(allWords)):\n",
    "        word=allWords.iloc[i]\n",
    "        series=cypher(possibleWords,word)\n",
    "        e=entropy(series)\n",
    "        # apply a boost for words which are still candiates\n",
    "        # boost is positive since np.log(1-1/n)<0\n",
    "        if i in possibleWords.index:\n",
    "            e-=(1-1/n)*np.log(1-1/n)\n",
    "        if e>m:\n",
    "            m=e\n",
    "            ans=word\n",
    "    return ans"
   ]
  },
  {
   "cell_type": "code",
   "execution_count": 24,
   "id": "0fc4c1a7",
   "metadata": {},
   "outputs": [
    {
     "name": "stdout",
     "output_type": "stream",
     "text": [
      "Finished 100 words in 8.04 minutes\n",
      "Finished 200 words in 16.88 minutes\n",
      "Finished 300 words in 26.15 minutes\n",
      "Finished 400 words in 34.97 minutes\n",
      "Finished 500 words in 42.92 minutes\n",
      "Finished 600 words in 52.76 minutes\n",
      "Finished 700 words in 62.01 minutes\n",
      "Finished 800 words in 71.87 minutes\n",
      "Finished 900 words in 81.0 minutes\n",
      "Finished 1000 words in 89.78 minutes\n",
      "Finished 1100 words in 99.85 minutes\n",
      "Finished 1200 words in 109.63 minutes\n",
      "Finished 1300 words in 118.84 minutes\n",
      "Finished 1400 words in 126.51 minutes\n",
      "Finished 1500 words in 136.34 minutes\n",
      "Finished 1600 words in 145.12 minutes\n",
      "Finished 1700 words in 150.8 minutes\n",
      "Finished 1800 words in 157.18 minutes\n",
      "Finished 1900 words in 163.24 minutes\n",
      "Finished 2000 words in 170.09 minutes\n",
      "Finished 2100 words in 178.58 minutes\n",
      "Finished 2200 words in 187.59 minutes\n",
      "Finished 2300 words in 197.28 minutes\n",
      "330.7142857142857\n",
      "[0, 46, 1217, 987, 64, 1, 0]\n"
     ]
    }
   ],
   "source": [
    "startTime=time.time()\n",
    "answers = pd.read_csv(\"wordle-answers-alphabetical.txt\",header=None,names=[\"word\"])\n",
    "# initial guess\n",
    "file=open('wordle-guesses.txt','w')\n",
    "distribution=[0 for i in range(7)]\n",
    "num=0\n",
    "for answer in answers.word:\n",
    "    df=answers\n",
    "    guess=\"soare\"\n",
    "    file.write(guess) # write initial guess to file\n",
    "    ct=1 # initialize guess count at 1\n",
    "    while guess!=answer:\n",
    "        response=wordle(answer,guess)\n",
    "        df=df[cypher(df.word,guess)==response] #filter possible words\n",
    "        if df.shape[0]==1:\n",
    "            guess=df.word.iloc[0]\n",
    "        else:\n",
    "            guess=nextWord(df.word,five.word)\n",
    "        file.write(',')\n",
    "        file.write(guess) # write next guess to file, stop when guess==answer\n",
    "        ct+=1\n",
    "    file.write('\\n')\n",
    "    if ct>6:\n",
    "        distribution[6]+=1\n",
    "    else:\n",
    "        distribution[ct-1]+=1\n",
    "    num+=1\n",
    "    if num%100==0:\n",
    "        print(\"Finished\",num,\"words in\",round((time.time() - startTime)/60,2),\"minutes\")\n",
    "file.close()\n",
    "print(np.average(distribution))\n",
    "print(distribution)"
   ]
  }
 ],
 "metadata": {
  "kernelspec": {
   "display_name": "Python 3 (ipykernel)",
   "language": "python",
   "name": "python3"
  },
  "language_info": {
   "codemirror_mode": {
    "name": "ipython",
    "version": 3
   },
   "file_extension": ".py",
   "mimetype": "text/x-python",
   "name": "python",
   "nbconvert_exporter": "python",
   "pygments_lexer": "ipython3",
   "version": "3.10.1"
  }
 },
 "nbformat": 4,
 "nbformat_minor": 5
}
