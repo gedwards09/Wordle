{
 "cells": [
  {
   "cell_type": "code",
   "execution_count": 1,
   "id": "6d888b8a",
   "metadata": {},
   "outputs": [],
   "source": [
    "import numpy as np\n",
    "import pandas as pd"
   ]
  },
  {
   "cell_type": "code",
   "execution_count": 2,
   "id": "76631645",
   "metadata": {},
   "outputs": [],
   "source": [
    "# get the list of words from Knuth's list of five-letter words\n",
    "five = pd.read_csv(\"https://www-cs-faculty.stanford.edu/~knuth/sgb-words.txt\",header=None,names=[\"word\"])"
   ]
  },
  {
   "cell_type": "code",
   "execution_count": 3,
   "id": "4d2024cd",
   "metadata": {},
   "outputs": [
    {
     "data": {
      "text/html": [
       "<div>\n",
       "<style scoped>\n",
       "    .dataframe tbody tr th:only-of-type {\n",
       "        vertical-align: middle;\n",
       "    }\n",
       "\n",
       "    .dataframe tbody tr th {\n",
       "        vertical-align: top;\n",
       "    }\n",
       "\n",
       "    .dataframe thead th {\n",
       "        text-align: right;\n",
       "    }\n",
       "</style>\n",
       "<table border=\"1\" class=\"dataframe\">\n",
       "  <thead>\n",
       "    <tr style=\"text-align: right;\">\n",
       "      <th></th>\n",
       "      <th>word</th>\n",
       "    </tr>\n",
       "  </thead>\n",
       "  <tbody>\n",
       "    <tr>\n",
       "      <th>400</th>\n",
       "      <td>ended</td>\n",
       "    </tr>\n",
       "    <tr>\n",
       "      <th>401</th>\n",
       "      <td>chord</td>\n",
       "    </tr>\n",
       "    <tr>\n",
       "      <th>402</th>\n",
       "      <td>false</td>\n",
       "    </tr>\n",
       "    <tr>\n",
       "      <th>403</th>\n",
       "      <td>skill</td>\n",
       "    </tr>\n",
       "    <tr>\n",
       "      <th>404</th>\n",
       "      <td>holes</td>\n",
       "    </tr>\n",
       "  </tbody>\n",
       "</table>\n",
       "</div>"
      ],
      "text/plain": [
       "      word\n",
       "400  ended\n",
       "401  chord\n",
       "402  false\n",
       "403  skill\n",
       "404  holes"
      ]
     },
     "execution_count": 3,
     "metadata": {},
     "output_type": "execute_result"
    }
   ],
   "source": [
    "five.iloc[400:405] #check that string \"false\" is not treated like a boolean"
   ]
  },
  {
   "cell_type": "code",
   "execution_count": 4,
   "id": "d49b13e6",
   "metadata": {},
   "outputs": [],
   "source": [
    "def wordle(answer,guess):\n",
    "    sig=[\"B\",\"B\",\"B\",\"B\",\"B\"]\n",
    "    for i in range(5):\n",
    "        if answer[i]==guess[i]:\n",
    "            sig[i]=\"G\"\n",
    "        elif guess[i] in answer:\n",
    "            sig[i]=\"Y\"\n",
    "    ans=\"\"\n",
    "    for char in sig:\n",
    "        ans+=char\n",
    "    return ans"
   ]
  },
  {
   "cell_type": "code",
   "execution_count": 5,
   "id": "077c80b4",
   "metadata": {},
   "outputs": [
    {
     "data": {
      "text/plain": [
       "'GBYBY'"
      ]
     },
     "execution_count": 5,
     "metadata": {},
     "output_type": "execute_result"
    }
   ],
   "source": [
    "answer=\"ready\"\n",
    "guess=\"rhyme\"\n",
    "wordle(answer,guess)"
   ]
  },
  {
   "cell_type": "code",
   "execution_count": 6,
   "id": "ae4b31e2",
   "metadata": {},
   "outputs": [
    {
     "data": {
      "text/plain": [
       "0    BBBBB\n",
       "1    YYBBB\n",
       "2    YYBBB\n",
       "3    BBYBB\n",
       "4    BBBYB\n",
       "5    BYBBB\n",
       "6    YYBBB\n",
       "7    YBBGB\n",
       "8    BBBYB\n",
       "9    YYBBB\n",
       "Name: word, dtype: object"
      ]
     },
     "execution_count": 6,
     "metadata": {},
     "output_type": "execute_result"
    }
   ],
   "source": [
    "# apply a guess to every word in the list\n",
    "guess=\"ready\"\n",
    "five[\"word\"].apply(lambda x: wordle(x,guess)).head(10)"
   ]
  },
  {
   "cell_type": "code",
   "execution_count": 7,
   "id": "dba92e85",
   "metadata": {},
   "outputs": [],
   "source": [
    "# given a series of categorical values compute the information entropy\n",
    "def entropy(series):\n",
    "    dic={}\n",
    "    n=len(series)\n",
    "    for el in series:\n",
    "        if el not in dic:\n",
    "            dic[el]=1\n",
    "        else:\n",
    "            dic[el]+=1\n",
    "    e=0\n",
    "    for key in dic:\n",
    "        p=dic[key]/n\n",
    "        if p>0:\n",
    "            e -= p*np.log(p)\n",
    "    return e"
   ]
  },
  {
   "cell_type": "code",
   "execution_count": 8,
   "id": "930a49fd",
   "metadata": {},
   "outputs": [
    {
     "data": {
      "text/plain": [
       "4.239437315510327"
      ]
     },
     "execution_count": 8,
     "metadata": {},
     "output_type": "execute_result"
    }
   ],
   "source": [
    "# compute the entropy of the responses as a probability distribution for a given guess\n",
    "guess=\"rates\"\n",
    "entropy(five[\"word\"].apply(lambda x: wordle(x,guess)))"
   ]
  },
  {
   "cell_type": "code",
   "execution_count": 9,
   "id": "20962372",
   "metadata": {},
   "outputs": [],
   "source": [
    "# Determine the best next guess by choosing the word which maximizes information entropy\n",
    "# considers all words as potent\n",
    "def nextWord(df,allWords):\n",
    "    ans=\"\"\n",
    "    m=0\n",
    "    for word in allWords:\n",
    "        series=df.word.apply(lambda x: wordle(x,word))\n",
    "        e=entropy(series)\n",
    "        if e>m:\n",
    "            m=e\n",
    "            ans=word\n",
    "    return ans"
   ]
  },
  {
   "cell_type": "code",
   "execution_count": 10,
   "id": "995e458d",
   "metadata": {},
   "outputs": [],
   "source": [
    "# prompt user to respond with the Wordle response, e.g. as \"BYYBG\"\n",
    "def getResponse():\n",
    "    while(True):\n",
    "        print(\"Enter response: \")\n",
    "        string=input()\n",
    "        string=string.upper()\n",
    "        if len(string)==0:\n",
    "            return \"\"\n",
    "        if len(string)!=5:\n",
    "            print(\"Response must be exactly 5 characters\\n\")\n",
    "        else:\n",
    "            done=1\n",
    "            for char in string:\n",
    "                if char not in (\"B\",\"G\",\"Y\"):\n",
    "                    print(\"Enter Wordle response using 'B','Y','G'\")\n",
    "                    done=0\n",
    "                    break\n",
    "            if done==1:\n",
    "                break\n",
    "    return string"
   ]
  },
  {
   "cell_type": "code",
   "execution_count": 11,
   "id": "9c4c7e5b",
   "metadata": {},
   "outputs": [],
   "source": [
    "# Recursively find the best word until solved\n",
    "def solver(df):\n",
    "    while(True):\n",
    "        guess=nextWord(df,five.word)\n",
    "        print(\"Next guess:\")\n",
    "        print(\"\\t\",guess)\n",
    "        sig=getResponse()\n",
    "        if sig==\"\":\n",
    "            break\n",
    "        df=df[df.word.apply(lambda x: wordle(x,guess))==sig]\n",
    "        if df.shape[0]==1:\n",
    "            print(\"Then the word must be:\")\n",
    "            print(\"\\t\",df.word.iloc[0])\n",
    "            break\n",
    "        if df.shape[0]==0:\n",
    "            print(\"No such word was found.\")\n",
    "            break"
   ]
  },
  {
   "cell_type": "code",
   "execution_count": 12,
   "id": "a6cac6c6",
   "metadata": {},
   "outputs": [
    {
     "name": "stdout",
     "output_type": "stream",
     "text": [
      "Next guess:\n",
      "\t tares\n",
      "Enter response: \n",
      "YBYBB\n",
      "Next guess:\n",
      "\t fount\n",
      "Enter response: \n",
      "BGBBG\n",
      "Then the word must be:\n",
      "\t robot\n"
     ]
    }
   ],
   "source": [
    "solver(five)"
   ]
  }
 ],
 "metadata": {
  "kernelspec": {
   "display_name": "Python 3 (ipykernel)",
   "language": "python",
   "name": "python3"
  },
  "language_info": {
   "codemirror_mode": {
    "name": "ipython",
    "version": 3
   },
   "file_extension": ".py",
   "mimetype": "text/x-python",
   "name": "python",
   "nbconvert_exporter": "python",
   "pygments_lexer": "ipython3",
   "version": "3.10.1"
  }
 },
 "nbformat": 4,
 "nbformat_minor": 5
}
