{
 "cells": [
  {
   "cell_type": "code",
   "execution_count": 1,
   "id": "0cbc6389",
   "metadata": {},
   "outputs": [],
   "source": [
    "import numpy as np\n",
    "import pandas as pd"
   ]
  },
  {
   "cell_type": "code",
   "execution_count": 2,
   "id": "024c443a",
   "metadata": {},
   "outputs": [],
   "source": [
    "# get the list of words from Knuth's Graph Base list of five-letter words\n",
    "five = pd.read_csv(\"sgb-words.txt\",header=None,names=[\"word\"])"
   ]
  },
  {
   "cell_type": "code",
   "execution_count": 3,
   "id": "42aa8d3e",
   "metadata": {},
   "outputs": [
    {
     "data": {
      "text/html": [
       "<div>\n",
       "<style scoped>\n",
       "    .dataframe tbody tr th:only-of-type {\n",
       "        vertical-align: middle;\n",
       "    }\n",
       "\n",
       "    .dataframe tbody tr th {\n",
       "        vertical-align: top;\n",
       "    }\n",
       "\n",
       "    .dataframe thead th {\n",
       "        text-align: right;\n",
       "    }\n",
       "</style>\n",
       "<table border=\"1\" class=\"dataframe\">\n",
       "  <thead>\n",
       "    <tr style=\"text-align: right;\">\n",
       "      <th></th>\n",
       "      <th>word</th>\n",
       "    </tr>\n",
       "  </thead>\n",
       "  <tbody>\n",
       "    <tr>\n",
       "      <th>400</th>\n",
       "      <td>ended</td>\n",
       "    </tr>\n",
       "    <tr>\n",
       "      <th>401</th>\n",
       "      <td>chord</td>\n",
       "    </tr>\n",
       "    <tr>\n",
       "      <th>402</th>\n",
       "      <td>false</td>\n",
       "    </tr>\n",
       "    <tr>\n",
       "      <th>403</th>\n",
       "      <td>skill</td>\n",
       "    </tr>\n",
       "    <tr>\n",
       "      <th>404</th>\n",
       "      <td>holes</td>\n",
       "    </tr>\n",
       "  </tbody>\n",
       "</table>\n",
       "</div>"
      ],
      "text/plain": [
       "      word\n",
       "400  ended\n",
       "401  chord\n",
       "402  false\n",
       "403  skill\n",
       "404  holes"
      ]
     },
     "execution_count": 3,
     "metadata": {},
     "output_type": "execute_result"
    }
   ],
   "source": [
    "five.iloc[400:405] #check that string \"false\" is not treated like a boolean"
   ]
  },
  {
   "cell_type": "code",
   "execution_count": 4,
   "id": "32c260bc",
   "metadata": {},
   "outputs": [],
   "source": [
    "def wordle(answer,guess):\n",
    "    sig=[\"B\",\"B\",\"B\",\"B\",\"B\"]\n",
    "    for i in range(5):\n",
    "        if answer[i]==guess[i]:\n",
    "            sig[i]=\"G\"\n",
    "    # create a count of remaining unidentified chars, ignoring the \"G\" positions\n",
    "    dic={}\n",
    "    for i in range(5):\n",
    "        if sig[i]!=\"G\":\n",
    "            if answer[i] not in dic:\n",
    "                dic[answer[i]]=1\n",
    "            else:\n",
    "                dic[answer[i]]+=1\n",
    "    for i in range(5):\n",
    "        if sig[i]!=\"G\" and guess[i] in dic:\n",
    "            if dic[guess[i]]>0:\n",
    "                sig[i]=\"Y\"\n",
    "                dic[guess[i]]-=1\n",
    "    ans=\"\"\n",
    "    for char in sig:\n",
    "        ans+=char\n",
    "    return ans"
   ]
  },
  {
   "cell_type": "code",
   "execution_count": 5,
   "id": "5ec60a45",
   "metadata": {},
   "outputs": [
    {
     "data": {
      "text/plain": [
       "'GBYBY'"
      ]
     },
     "execution_count": 5,
     "metadata": {},
     "output_type": "execute_result"
    }
   ],
   "source": [
    "answer=\"ready\"\n",
    "guess=\"rhyme\"\n",
    "wordle(answer,guess)"
   ]
  },
  {
   "cell_type": "code",
   "execution_count": 6,
   "id": "7889419e",
   "metadata": {},
   "outputs": [],
   "source": [
    "# determine the output cypher text for each plaintext word given a key\n",
    "def cypher(df,key):\n",
    "    return df[\"word\"].apply(lambda x: wordle(x,key)).rename(\"cypher\")"
   ]
  },
  {
   "cell_type": "code",
   "execution_count": 7,
   "id": "10dff7fb",
   "metadata": {},
   "outputs": [
    {
     "name": "stdout",
     "output_type": "stream",
     "text": [
      "Using the guess: ready\n"
     ]
    },
    {
     "data": {
      "text/html": [
       "<div>\n",
       "<style scoped>\n",
       "    .dataframe tbody tr th:only-of-type {\n",
       "        vertical-align: middle;\n",
       "    }\n",
       "\n",
       "    .dataframe tbody tr th {\n",
       "        vertical-align: top;\n",
       "    }\n",
       "\n",
       "    .dataframe thead th {\n",
       "        text-align: right;\n",
       "    }\n",
       "</style>\n",
       "<table border=\"1\" class=\"dataframe\">\n",
       "  <thead>\n",
       "    <tr style=\"text-align: right;\">\n",
       "      <th></th>\n",
       "      <th>word</th>\n",
       "      <th>cypher</th>\n",
       "    </tr>\n",
       "  </thead>\n",
       "  <tbody>\n",
       "    <tr>\n",
       "      <th>0</th>\n",
       "      <td>which</td>\n",
       "      <td>BBBBB</td>\n",
       "    </tr>\n",
       "    <tr>\n",
       "      <th>1</th>\n",
       "      <td>there</td>\n",
       "      <td>YYBBB</td>\n",
       "    </tr>\n",
       "    <tr>\n",
       "      <th>2</th>\n",
       "      <td>their</td>\n",
       "      <td>YYBBB</td>\n",
       "    </tr>\n",
       "    <tr>\n",
       "      <th>3</th>\n",
       "      <td>about</td>\n",
       "      <td>BBYBB</td>\n",
       "    </tr>\n",
       "    <tr>\n",
       "      <th>4</th>\n",
       "      <td>would</td>\n",
       "      <td>BBBYB</td>\n",
       "    </tr>\n",
       "    <tr>\n",
       "      <th>5</th>\n",
       "      <td>these</td>\n",
       "      <td>BYBBB</td>\n",
       "    </tr>\n",
       "    <tr>\n",
       "      <th>6</th>\n",
       "      <td>other</td>\n",
       "      <td>YYBBB</td>\n",
       "    </tr>\n",
       "    <tr>\n",
       "      <th>7</th>\n",
       "      <td>words</td>\n",
       "      <td>YBBGB</td>\n",
       "    </tr>\n",
       "    <tr>\n",
       "      <th>8</th>\n",
       "      <td>could</td>\n",
       "      <td>BBBYB</td>\n",
       "    </tr>\n",
       "    <tr>\n",
       "      <th>9</th>\n",
       "      <td>write</td>\n",
       "      <td>YYBBB</td>\n",
       "    </tr>\n",
       "  </tbody>\n",
       "</table>\n",
       "</div>"
      ],
      "text/plain": [
       "    word cypher\n",
       "0  which  BBBBB\n",
       "1  there  YYBBB\n",
       "2  their  YYBBB\n",
       "3  about  BBYBB\n",
       "4  would  BBBYB\n",
       "5  these  BYBBB\n",
       "6  other  YYBBB\n",
       "7  words  YBBGB\n",
       "8  could  BBBYB\n",
       "9  write  YYBBB"
      ]
     },
     "execution_count": 7,
     "metadata": {},
     "output_type": "execute_result"
    }
   ],
   "source": [
    "# apply a guess to every word in the list\n",
    "key=\"ready\"\n",
    "print(\"Using the guess:\",key)\n",
    "pd.concat([five.word,cypher(five,key)],axis=1).head(10)"
   ]
  },
  {
   "cell_type": "code",
   "execution_count": 8,
   "id": "2e41eb66",
   "metadata": {},
   "outputs": [],
   "source": [
    "# given a series of categorical values compute the information entropy\n",
    "def entropy(series):\n",
    "    dic={}\n",
    "    n=len(series)\n",
    "    for el in series:\n",
    "        if el not in dic:\n",
    "            dic[el]=1\n",
    "        else:\n",
    "            dic[el]+=1\n",
    "    e=0\n",
    "    for key in dic:\n",
    "        p=dic[key]/n\n",
    "        if p>0:\n",
    "            e -= p*np.log(p)\n",
    "    return e"
   ]
  },
  {
   "cell_type": "code",
   "execution_count": 9,
   "id": "ec719792",
   "metadata": {},
   "outputs": [
    {
     "data": {
      "text/plain": [
       "4.303876345130447"
      ]
     },
     "execution_count": 9,
     "metadata": {},
     "output_type": "execute_result"
    }
   ],
   "source": [
    "# compute the entropy of the responses as a probability distribution for a given guess\n",
    "guess=\"tares\"\n",
    "entropy(cypher(five,guess))"
   ]
  },
  {
   "cell_type": "code",
   "execution_count": 10,
   "id": "1af619a8",
   "metadata": {},
   "outputs": [],
   "source": [
    "# Determine the best next guess by choosing the word which maximizes information entropy\n",
    "# considers all words as potent\n",
    "def nextWord(df,allWords):\n",
    "    n=len(df.word)\n",
    "    ans=\"\"\n",
    "    m=0\n",
    "    for word in allWords:\n",
    "        series=cypher(df,word)\n",
    "        e=entropy(series)\n",
    "        # apply a boost for words which are still candiates\n",
    "        # boost is positive since np.log(1-1/n)<0\n",
    "        if df.word.str.contains(word).sum()>0:\n",
    "            e-=(1-1/n)*np.log(1-1/n)\n",
    "        if e>m:\n",
    "            m=e\n",
    "            ans=word\n",
    "    return ans"
   ]
  },
  {
   "cell_type": "code",
   "execution_count": 11,
   "id": "efafcc75",
   "metadata": {},
   "outputs": [],
   "source": [
    "# prompt user to respond with the Wordle response, e.g. as \"BYYBG\"\n",
    "def getResponse():\n",
    "    while(True):\n",
    "        print(\"Enter response: \")\n",
    "        string=input()\n",
    "        string=string.upper()\n",
    "        if len(string)==0:\n",
    "            return \"\"\n",
    "        if len(string)!=5:\n",
    "            print(\"Response must be exactly 5 characters\")\n",
    "        else:\n",
    "            done=1\n",
    "            for char in string:\n",
    "                if char not in (\"B\",\"G\",\"Y\"):\n",
    "                    print(\"Enter Wordle response using 'B','Y','G'\")\n",
    "                    done=0\n",
    "                    break\n",
    "            if done==1:\n",
    "                break\n",
    "    return string"
   ]
  },
  {
   "cell_type": "code",
   "execution_count": 12,
   "id": "91b62d5e",
   "metadata": {},
   "outputs": [],
   "source": [
    "# Recursively find the best word until solved\n",
    "def solver(df):\n",
    "    guess=\"tares\"\n",
    "    while(True):\n",
    "        print(\"Next guess:\")\n",
    "        print(\"\\t\",guess)\n",
    "        sig=getResponse()\n",
    "        if sig==\"\":\n",
    "            break\n",
    "        if sig==\"GGGGG\":\n",
    "            print(\"Then that's the word!\")\n",
    "            break\n",
    "        df=df[cypher(df,guess)==sig]\n",
    "        if df.shape[0]==1:\n",
    "            print(\"Then the word must be:\")\n",
    "            print(\"\\t\",df.word.iloc[0])\n",
    "            break\n",
    "        if df.shape[0]==0:\n",
    "            print(\"No such word was found.\")\n",
    "            break\n",
    "        guess=nextWord(df,five.word)"
   ]
  },
  {
   "cell_type": "code",
   "execution_count": 14,
   "id": "912e8953",
   "metadata": {},
   "outputs": [
    {
     "name": "stdout",
     "output_type": "stream",
     "text": [
      "Next guess:\n",
      "\t tares\n",
      "Enter response: \n",
      "BBBBB\n",
      "Next guess:\n",
      "\t doily\n",
      "Enter response: \n",
      "BBGYB\n",
      "Next guess:\n",
      "\t chunk\n",
      "Enter response: \n",
      "BBBBB\n",
      "Then the word must be:\n",
      "\t blimp\n"
     ]
    }
   ],
   "source": [
    "solver(five)"
   ]
  },
  {
   "cell_type": "code",
   "execution_count": null,
   "id": "3a7d024c",
   "metadata": {},
   "outputs": [],
   "source": []
  }
 ],
 "metadata": {
  "kernelspec": {
   "display_name": "Python 3 (ipykernel)",
   "language": "python",
   "name": "python3"
  },
  "language_info": {
   "codemirror_mode": {
    "name": "ipython",
    "version": 3
   },
   "file_extension": ".py",
   "mimetype": "text/x-python",
   "name": "python",
   "nbconvert_exporter": "python",
   "pygments_lexer": "ipython3",
   "version": "3.10.1"
  }
 },
 "nbformat": 4,
 "nbformat_minor": 5
}
